{
  "cells": [
    {
      "cell_type": "raw",
      "metadata": {},
      "source": [
        "---\n",
        "format:\n",
        "  html:\n",
        "    code-fold: false\n",
        "execute:\n",
        "  freeze: auto\n",
        "  enabled: true\n",
        "draft: true\n",
        "---"
      ],
      "id": "fb3757dd"
    },
    {
      "cell_type": "markdown",
      "metadata": {},
      "source": [
        "## Quick Start \n",
        "\n",
        "You can construct a `SimplexTree` by supplying simplices. Any collection of integer-valued `Iterable`'s will do, e.g. a list of lists: "
      ],
      "id": "40111809"
    },
    {
      "cell_type": "code",
      "metadata": {},
      "source": [
        "#| echo: true\n",
        "#| lst-cap: The SimplexTree class provides light wrapper around the extension module\n",
        "#| output: true\n",
        "#| code-summary: SimplexTree constructor\n",
        "from simplextree import SimplexTree\n",
        "st = SimplexTree([[0,1,2], [0,1], [4,5]]) \n",
        "print(st) "
      ],
      "id": "a0a6caba",
      "execution_count": null,
      "outputs": []
    },
    {
      "cell_type": "markdown",
      "metadata": {},
      "source": [
        "Batch insertion, removal, and membership queries are supported\n"
      ],
      "id": "6821c283"
    },
    {
      "cell_type": "code",
      "metadata": {},
      "source": [
        "#| echo: true\n",
        "#| output: true\n",
        "#| code-summary: Batch operations\n",
        "st.insert([[1,4], [1,5], [6]])\n",
        "print(st)"
      ],
      "id": "30c96e9b",
      "execution_count": null,
      "outputs": []
    },
    {
      "cell_type": "code",
      "metadata": {},
      "source": [
        "st.remove([[6]])\n",
        "print(st)"
      ],
      "id": "f6ffe2e2",
      "execution_count": null,
      "outputs": []
    },
    {
      "cell_type": "code",
      "metadata": {},
      "source": [
        "print(st.find([[6], [0,1]]))"
      ],
      "id": "1a14b2be",
      "execution_count": null,
      "outputs": []
    },
    {
      "cell_type": "markdown",
      "metadata": {},
      "source": [
        "Collections of simplices are returned as simple lists-of-lists:"
      ],
      "id": "895edb5d"
    },
    {
      "cell_type": "code",
      "metadata": {},
      "source": [
        "#| echo: true\n",
        "#| output: true\n",
        "#| code-summary: Complex collections \n",
        "print(st.simplices())"
      ],
      "id": "bf381d98",
      "execution_count": null,
      "outputs": []
    },
    {
      "cell_type": "markdown",
      "metadata": {},
      "source": [
        "Various parameters can be given to restrict a given subset to certain subsets or orders: "
      ],
      "id": "0cee331d"
    },
    {
      "cell_type": "code",
      "metadata": {},
      "source": [
        "#| echo: true\n",
        "#| output: true\n",
        "print(st.simplices(p=1)) "
      ],
      "id": "5456258b",
      "execution_count": null,
      "outputs": []
    },
    {
      "cell_type": "markdown",
      "metadata": {},
      "source": [
        "Familiar Pythonic [Collection semantics](https://docs.python.org/3/library/collections.abc.html#collections-abstract-base-classes) are supported, including \\_\\_contains\\_\\_, \\_\\_iter\\_\\_ support, and \\_\\_len\\_\\_:"
      ],
      "id": "0754694e"
    },
    {
      "cell_type": "code",
      "metadata": {},
      "source": [
        "#| echo: true\n",
        "#| output: true\n",
        "print([0,1,2] in st)\n",
        "print([len(simplex) for simplex in st])\n",
        "print(len(st))"
      ],
      "id": "025f4d69",
      "execution_count": null,
      "outputs": []
    },
    {
      "cell_type": "markdown",
      "metadata": {},
      "source": [
        "The cofaces of any simplex can be listed with `cofaces`:\n"
      ],
      "id": "439e61aa"
    },
    {
      "cell_type": "code",
      "metadata": {},
      "source": [
        "print(\"Cofaces([1]): \" + str(st.cofaces([1])))"
      ],
      "id": "edf65bc7",
      "execution_count": null,
      "outputs": []
    },
    {
      "cell_type": "markdown",
      "metadata": {},
      "source": [
        "The maximal simplices can be listed with `maximal`:"
      ],
      "id": "f7550062"
    },
    {
      "cell_type": "code",
      "metadata": {},
      "source": [
        "print(\"Maximal: \" + str(st.maximal()))"
      ],
      "id": "ba3fb3c7",
      "execution_count": null,
      "outputs": []
    },
    {
      "cell_type": "markdown",
      "metadata": {},
      "source": [
        "Basic properties are also available as attributes "
      ],
      "id": "c7130cc7"
    },
    {
      "cell_type": "code",
      "metadata": {},
      "source": [
        "st.n_simplices, st.dimension, st.vertices, st.connected_components"
      ],
      "id": "3e1b90c3",
      "execution_count": null,
      "outputs": []
    },
    {
      "cell_type": "markdown",
      "metadata": {},
      "source": [
        "Interoperability with numpy is provided whenever possible"
      ],
      "id": "595b6930"
    },
    {
      "cell_type": "code",
      "metadata": {},
      "source": [
        "import numpy as np \n",
        "all(np.all(st.triangles == np.array(st.simplices(p=2)), axis=0))"
      ],
      "id": "aa406636",
      "execution_count": null,
      "outputs": []
    },
    {
      "cell_type": "markdown",
      "metadata": {},
      "source": [
        "Other complex-wide operations are supported, like $k$-expansions "
      ],
      "id": "00078bfb"
    },
    {
      "cell_type": "code",
      "metadata": {},
      "source": [
        "st.insert([[1,4]]) \n",
        "st.expand(2)       \n",
        "print(st)"
      ],
      "id": "f9812423",
      "execution_count": null,
      "outputs": []
    },
    {
      "cell_type": "markdown",
      "metadata": {},
      "source": [
        "The trie-structure can also be inspected on the python side:"
      ],
      "id": "52ef689b"
    },
    {
      "cell_type": "code",
      "metadata": {},
      "source": [
        "st.print_tree()"
      ],
      "id": "fcc93d87",
      "execution_count": null,
      "outputs": []
    }
  ],
  "metadata": {
    "kernelspec": {
      "name": "python3",
      "language": "python",
      "display_name": "Python 3 (ipykernel)"
    }
  },
  "nbformat": 4,
  "nbformat_minor": 5
}